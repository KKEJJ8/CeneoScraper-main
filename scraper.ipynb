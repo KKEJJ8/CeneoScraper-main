{
 "cells": [
  {
   "cell_type": "markdown",
   "metadata": {
    "vscode": {
     "languageId": "plaintext"
    }
   },
   "source": [
    "#### 1.Imports\n"
   ]
  },
  {
   "cell_type": "code",
   "execution_count": 29,
   "metadata": {},
   "outputs": [],
   "source": [
    "import os\n",
    "import json\n",
    "import requests\n",
    "from bs4 import BeautifulSoup\n",
    "from deep_translator import GoogleTranslator"
   ]
  },
  {
   "cell_type": "markdown",
   "metadata": {},
   "source": [
    "### Utils\n"
   ]
  },
  {
   "cell_type": "code",
   "execution_count": 30,
   "metadata": {},
   "outputs": [],
   "source": [
    "def extract(ancestor, selector=None, attribute=None, multiple=False):\n",
    "    if selector:\n",
    "        if multiple:\n",
    "            if attribute:\n",
    "                return [tag[attribute].strip() for tag in ancestor.select(selector)]\n",
    "            return [tag.get_text().strip() for tag in ancestor.select(selector)]\n",
    "        if attribute:\n",
    "            try:\n",
    "                return ancestor.select_one(selector)[attribute].strip()\n",
    "            except TypeError:\n",
    "                return None\n",
    "        try:\n",
    "            return ancestor.select_one(selector).get_text().strip()\n",
    "        except AttributeError:\n",
    "            return None\n",
    "    try:\n",
    "        return ancestor[attribute].strip()\n",
    "    except (TypeError, KeyError):\n",
    "        return None"
   ]
  },
  {
   "cell_type": "code",
   "execution_count": 31,
   "metadata": {},
   "outputs": [],
   "source": [
    "def translate(text, source=\"pl\", target=\"en\"):\n",
    "    return GoogleTranslator(source, target).translate(text=text)"
   ]
  },
  {
   "cell_type": "code",
   "execution_count": 32,
   "metadata": {},
   "outputs": [],
   "source": [
    "selectors = {\n",
    "    \"opinion_id\": (None, \"data-entry-id\"),\n",
    "    \"author\": (\"span.user-post__author-name\",),\n",
    "    \"recommendation\": (\"span.user-post__author-recomendation > em\",),\n",
    "    \"stars\": (\"span.user-post__score-count\",),\n",
    "    \"content_pl\": (\"div.user-post__text\",),\n",
    "    \"pros_pl\": (\"div.review-feature__item--positive\", None, True),\n",
    "    \"cons_pl\": (\"div.review-feature__item--negative\", None, True),\n",
    "    \"vote_yes\": (\"button.vote-yes\",\"data-total-vote\"),\n",
    "    \"vote_no\": (\"button.vote-no\",\"data-total-vote\"),\n",
    "    \"published\": (\"span.user-post__published > time:nth-child(1)\",\"datetime\"),\n",
    "    \"purchased\": (\"span.user-post__published > time:nth-child(2)\",\"datetime\"),\n",
    "}"
   ]
  },
  {
   "cell_type": "markdown",
   "metadata": {},
   "source": [
    "### Extraction of opinions"
   ]
  },
  {
   "cell_type": "code",
   "execution_count": 33,
   "metadata": {},
   "outputs": [],
   "source": [
    "with open(\"./cookie.json\", 'r') as jf:\n",
    "    headers = json.load(jf)"
   ]
  },
  {
   "cell_type": "code",
   "execution_count": 34,
   "metadata": {},
   "outputs": [
    {
     "name": "stdout",
     "output_type": "stream",
     "text": [
      "https://www.ceneo.pl/#tab=reviews\n",
      "0\n"
     ]
    }
   ],
   "source": [
    "product_id = input(\"ennter product code\")\n",
    "next_page = f\"https://www.ceneo.pl/{product_id}#tab=reviews\"\n",
    "all_opinions = []\n",
    "while next_page:\n",
    "    response = requests.get(next_page, headers = headers)\n",
    "    if response.status_code == 200:\n",
    "        print(next_page)\n",
    "        page_dom = BeautifulSoup(response.text, 'html.parser')\n",
    "        opinions = page_dom.select(\"div.js_product-review:not(.user-post--highlight)\")\n",
    "        print(len(opinions))\n",
    "        for opinion in opinions:\n",
    "            single_opinion = {\n",
    "                key: extract(opinion, *value)\n",
    "                for key, value in selectors.items()\n",
    "            }\n",
    "            single_opinion['content_en'] = translate(single_opinion['content_pl'])\n",
    "            single_opinion['pros_en'] = [translate(pros) for pros in single_opinion['pros_pl']]\n",
    "            single_opinion['cons_en'] = [translate(cons) for cons in single_opinion['cons_pl']]\n",
    "            single_opinion['recommendation'] = True if single_opinion['recommendation']=='Polecam' else False if  single_opinion['recommendation']==\"Nie polecam\" else None\n",
    "            single_opinion['stars'] = float(single_opinion['stars'].split(\"/\")[0].replace(\",\", \".\"))\n",
    "            single_opinion['vote_yes'] = int(single_opinion['vote_yes'])\n",
    "            single_opinion['vote_no'] = int(single_opinion['vote_no'])\n",
    "            all_opinions.append(single_opinion)\n",
    "        try:\n",
    "            next_page = \"https://www.ceneo.pl\" + page_dom.select_one(\"a.pagination__next\")[\"href\"]\n",
    "        except TypeError:\n",
    "            next_page = None"
   ]
  },
  {
   "cell_type": "code",
   "execution_count": 20,
   "metadata": {},
   "outputs": [],
   "source": [
    "if not os.path.exists(\"./opinions\"):\n",
    "    os.mkdir(\"./opinions\")\n",
    "with open(f\"./opinions/{product_id}.json\", \"w\", encoding=\"UTF-8\") as jf:\n",
    "    json.dump(all_opinions, jf, ensure_ascii=False, indent=4)"
   ]
  },
  {
   "cell_type": "markdown",
   "metadata": {},
   "source": [
    "#### 2. Sending HTTP request to access first page with options"
   ]
  },
  {
   "cell_type": "code",
   "execution_count": 21,
   "metadata": {},
   "outputs": [],
   "source": [
    "headers = {\n",
    "    \"Cookie\" : \"sv3=1.0_d30e6f6e-13a6-11f0-88f3-92233e48ae52; __RequestVerificationToken=6btcuKo3AACe56ovwhgerlfPoqUpZzyG7pcg8hGjANDiAWgtmyRQ9RuFS8LQ1F5y39J9Gg01GjJPLqM-CmYmBPHUVOFggOCz0ODycbiHYfQ1; userCeneo=ID=4d13d8e4-c186-4653-ad36-be9ae38bf8af; appType=%7B%22Value%22%3A1%7D; ai_user=b6k/M|2025-04-07T11:52:48.415Z; cProdCompare_v2=; __utmf=6f4c4b6ffd4fed7933e28ea544f0e325_k2wCRI6tAVQ9FXqBZshhQvo35Yf981ST; __rtbh.uid=%7B%22eventType%22%3A%22uid%22%2C%22id%22%3A%22unknown%22%2C%22expiryDate%22%3A%222026-04-07T11%3A52%3A48.878Z%22%7D; __rtbh.lid=%7B%22eventType%22%3A%22lid%22%2C%22id%22%3A%22uaiaihKkgE8RQVo7qAxJ%22%2C%22expiryDate%22%3A%222026-04-07T11%3A52%3A48.878Z%22%7D; __eoi=ID=2714304659f50dde:T=1744026768:RT=1744026768:S=AA-AfjbkCLvStpjA7BHmgpzNfwMq; browserBlStatus=0; _gcl_au=1.1.1995519728.1744026771; ga4_ga=GA1.2.d30e6f6e-13a6-11f0-88f3-92233e48ae52; consentcookie=eyJBZ3JlZUFsbCI6dHJ1ZSwiQ29uc2VudHMiOlsxLDMsNCwyXSwiVENTdHJpbmciOiJDUVBmdGNBUVBmdGNBR3lBQkJQTEJrRXNBUF9nQUFBQUFCNVlJTnBEN0JiQkxVRkF3RmhqWUtzUU1JRVRVTUNBQW9RQUFBYUJBQ0FCUUFLUUlBUUNra0FRQkFTZ0JBQUNBQUFBSUNSQklRQU1BQUFBQ0VBQVFBQUFJQUFFQUFDUUJRQUlBQUFBZ0FBUUFBQVlBQUFpQUlBQUFBQUlnQUlBRUFBQW1RaEFBQUlBRUVBQWhBQUVJQUFBQUFBQUFBQUFBZ0FBQUFBQ0FBSUFBQUFBQUNBQUFJSU5nQUFBQUFBQUFBQUFBQUFBQUFBQUFBQUFBQUFBQUFBQUFBQUFBQUFBQUFBQUFBQUFBQUFBQUFBQUFBQUFBQUFBQUFBQUFBQUFBQUFBQUFBQUFBQUFBQUFBQUFBQUFBQUFBQUFBQUFBQUFBQUFBQUFBQUFBQUFBQUFBQUFBQUFBQUFBQUFBQUFBQUFBQUFBQUFBQUFBQUFBQUFBQUFBQUFBQUFBQUFBQUFBQUFBQUFBQUJZS0FEQUFFRUd3a0FHQUFJSU5ob0FNQUFRUWJFUUFZQUFnZzJLZ0F3QUJCQnNaQUJnQUNDRFk2QURBQUVFR3lFQUdBQUlJTmtvQU1BQVFRYktRQVlBQWdnMldnQXdBQkJCc0EiLCJWZXJzaW9uIjoidjMifQ==; FPID=FPID2.2.8OFFUHXxPzeaJ6g56rBE5yWCf9F3GeGPejQMu0ibdmE%3D; FPLC=D8qYJh5nYjo9di38Pcf%2BI8UMzYEw9b0caFMpXOKQBYaEAuhdKA9zvVQDU9dsXqwIeNf5bBWdg9mUKny3qZoQByOl%2F5xkuvCUTfg1OsaccYkB5A4%3D; ga4_ga_K2N2M0CBQ6=GS1.2.1744026768.1.1.1744026791.0.0.1531059166; ai_session=b/dLY|1744026768607.6|1744026835436.5\",\n",
    "    \"Host\" : \"www.ceneo.pl\",\n",
    "    \"User-Agent\" : \"Mozilla/5.0 (Macintosh; Intel Mac OS X 10_15_7) AppleWebKit/537.36 (KHTML, like Gecko) Chrome/134.0.0.0 Safari/537.36\",\n",
    "}"
   ]
  },
  {
   "cell_type": "code",
   "execution_count": 22,
   "metadata": {},
   "outputs": [],
   "source": [
    "with open(\"./cookie.json\", 'r') as jf:\n",
    "    headers = json.load(jf)"
   ]
  },
  {
   "cell_type": "code",
   "execution_count": 23,
   "metadata": {},
   "outputs": [],
   "source": [
    "url = \"https://www.ceneo.pl/84514582#tab=reviews\"\n",
    "response = requests.get(url)"
   ]
  },
  {
   "cell_type": "markdown",
   "metadata": {},
   "source": [
    "#### 3.Checking the code of HTTP response"
   ]
  },
  {
   "cell_type": "code",
   "execution_count": null,
   "metadata": {},
   "outputs": [],
   "source": [
    "response.status_code"
   ]
  },
  {
   "cell_type": "markdown",
   "metadata": {},
   "source": [
    "#### 4.Parse the HTML code of first page with options"
   ]
  },
  {
   "cell_type": "code",
   "execution_count": 25,
   "metadata": {},
   "outputs": [],
   "source": [
    "page_don = BeautifulSoup(response.text, 'html.parser')"
   ]
  },
  {
   "cell_type": "markdown",
   "metadata": {},
   "source": [
    "#### 5.Extract required data from parsed code"
   ]
  },
  {
   "cell_type": "code",
   "execution_count": null,
   "metadata": {},
   "outputs": [],
   "source": [
    "opinions = page_don.select('div.js_product-review:not(.user-post--highlight)')\n",
    "for opinion in opinions:\n",
    "    opinion_id = opinion['data-entry-id']\n",
    "    author = opinion.select_one('span.user-post__author-name').get_text()\n",
    "    try:\n",
    "        reccommendation = opinion.select_one('span.user-post__author-recomendation > em').get_text()\n",
    "    except AttributeError: \n",
    "        reccommendation = None\n",
    "    stars = opinion.select_one('span.user-post__score-count').get_text()\n",
    "    content = opinion.select_one('div.user-post__text').get_text()\n",
    "    pros = [p.get_text()for p in opinion.select('div.review-feature__item--positive')]\n",
    "    cons = [c.get_text() for c in opinion.select('div.review-feature__item--negative')]\n",
    "    vote_yes = opinion.select_one('button.vote-yes')['data-total-vote']\n",
    "    vote_no = opinion.select_one('button.vote-no')['data-total-vote']\n",
    "    published = opinion.select_one('span.user-post__published > time:nth-child(1)')[\"datetime\"]\n",
    "    try:\n",
    "        purchased = opinion.select_one('span.user-post__published > time:nth-child(2)')[\"datetime\"]\n",
    "    except TypeError: \n",
    "        purchased = None\n",
    "    print(opinion_id, author, reccommendation, stars, content, pros, cons, vote_yes, vote_no, published, purchased, sep='\\n')"
   ]
  },
  {
   "cell_type": "markdown",
   "metadata": {},
   "source": [
    "#### 6. If there are more pages, move to the next page and repeat step 2-5 for it"
   ]
  },
  {
   "cell_type": "code",
   "execution_count": 27,
   "metadata": {},
   "outputs": [],
   "source": [
    "try:\n",
    "    next_page ='https://www.ceneo.pl' + page_don.select_one('a.pagination__next')['href']\n",
    "except TypeError:\n",
    "    next_page = None\n"
   ]
  },
  {
   "cell_type": "code",
   "execution_count": null,
   "metadata": {},
   "outputs": [],
   "source": [
    "product_id = \"84514582\"\n",
    "next_page = f\"https://www.ceneo.pl/{product_id}84514582#tab=reviews\"\n",
    "all_opinions = []\n",
    "while next_page:\n",
    "    response = requests.get(next_page, headers= headers)\n",
    "    if response.status_code == 200:\n",
    "        print(next_page)\n",
    "        page_dom = BeautifulSoup( response.text, 'html.parser')\n",
    "        opinions = page_dom.select('div.js_product-review:not(.user-post--highlight)')\n",
    "        print(len(opinions))\n",
    "        for opinion in opinions:\n",
    "            single_opinion = {}\n",
    "            single_opinion['opinion_id'] = opinion['data-entry-id']\n",
    "            single_opinion['author'] = opinion.select_one('span.user-post__author-name').get_text()\n",
    "            try:\n",
    "                single_opinion['reccommendation'] = opinion.select_one('span.user-post__author-recomendation > em').get_text()\n",
    "            except AttributeError: \n",
    "                single_opinion['reccommendation'] = None\n",
    "            single_opinion['stars'] = opinion.select_one('span.user-post__score-count').get_text()\n",
    "            single_opinion['content'] = opinion.select_one('div.user-post__text').get_text()\n",
    "            single_opinion['pros'] = [p.get_text()for p in opinion.select('div.review-feature__item--positive')]\n",
    "            single_opinion['cons'] = [c.get_text() for c in opinion.select('div.review-feature__item--negative')]\n",
    "            single_opinion['vote_yes'] = opinion.select_one('button.vote-yes')['data-total-vote']\n",
    "            single_opinion['vote_no'] = opinion.select_one('button.vote-no')['data-total-vote']\n",
    "            single_opinion['published'] = opinion.select_one('span.user-post__published > time:nth-child(1)')[\"datetime\"]\n",
    "            try:\n",
    "                single_opinion['purchased'] = opinion.select_one('span.user-post__published > time:nth-child(2)')[\"datetime\"]\n",
    "            except TypeError: \n",
    "                single_opinion['purchased'] = None\n",
    "            all_opinions.append(single_opinion)\n",
    "        try:\n",
    "            next_page = 'https://www.ceneo.pl' + page_dom.select_one('a.pagination__next')['href']\n",
    "        except TypeError: \n",
    "            next_page = None\n",
    "    print(all_opinions)"
   ]
  },
  {
   "cell_type": "code",
   "execution_count": null,
   "metadata": {},
   "outputs": [],
   "source": [
    "print(response.text)"
   ]
  },
  {
   "cell_type": "markdown",
   "metadata": {},
   "source": [
    "### 7.Save extracted data"
   ]
  },
  {
   "cell_type": "code",
   "execution_count": 36,
   "metadata": {},
   "outputs": [],
   "source": [
    "if not os.path.exists(\"./opinions\"):\n",
    "    os.mkdir(\"./opinions\")\n",
    "with open(f\"./opinions{product_id}.json\", \"w\", encoding=\"UTF-8\" ) as js:\n",
    "    json.dump(all_opinions, js, ensure_ascii=False, indent=4)"
   ]
  },
  {
   "cell_type": "code",
   "execution_count": 35,
   "metadata": {},
   "outputs": [],
   "source": [
    "product_id = \"84514582\""
   ]
  }
 ],
 "metadata": {
  "kernelspec": {
   "display_name": ".venv",
   "language": "python",
   "name": "python3"
  },
  "language_info": {
   "codemirror_mode": {
    "name": "ipython",
    "version": 3
   },
   "file_extension": ".py",
   "mimetype": "text/x-python",
   "name": "python",
   "nbconvert_exporter": "python",
   "pygments_lexer": "ipython3",
   "version": "3.9.5"
  }
 },
 "nbformat": 4,
 "nbformat_minor": 2
}
