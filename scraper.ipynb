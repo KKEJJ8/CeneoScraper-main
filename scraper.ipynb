{
 "cells": [
  {
   "cell_type": "markdown",
   "metadata": {
    "vscode": {
     "languageId": "plaintext"
    }
   },
   "source": [
    "#### 1.Imports\n"
   ]
  },
  {
   "cell_type": "code",
   "execution_count": 35,
   "metadata": {},
   "outputs": [],
   "source": [
    "import requests\n",
    "import json\n",
    "from bs4 import BeautifulSoup"
   ]
  },
  {
   "cell_type": "markdown",
   "metadata": {},
   "source": [
    "#### 2. Sending HTTP request to access first page with options"
   ]
  },
  {
   "cell_type": "code",
   "execution_count": null,
   "metadata": {},
   "outputs": [],
   "source": []
  },
  {
   "cell_type": "markdown",
   "metadata": {},
   "source": [
    "#### 3.Checking the code of HTTP response"
   ]
  },
  {
   "cell_type": "code",
   "execution_count": null,
   "metadata": {},
   "outputs": [],
   "source": [
    "response.status_code"
   ]
  },
  {
   "cell_type": "markdown",
   "metadata": {},
   "source": [
    "#### 4.Parse the HTML code of first page with options"
   ]
  },
  {
   "cell_type": "code",
   "execution_count": null,
   "metadata": {},
   "outputs": [],
   "source": [
    "page_don = BeautifulSoup(response.text, 'html.parser')\n",
    "print(page_don)"
   ]
  },
  {
   "cell_type": "markdown",
   "metadata": {},
   "source": [
    "#### 5.Extract required data from parsed code"
   ]
  },
  {
   "cell_type": "code",
   "execution_count": null,
   "metadata": {},
   "outputs": [],
   "source": [
    "opinions = page_don.select(\"div.js_product-review:not(.user-post--highlight)\")\n",
    "opinion = page_don.select_one(\"div.js_product-review:not(.user-post--highlight)\")\n",
    "print(type(page_don))\n",
    "print(type(opinions))\n",
    "print(len(opinions))\n",
    "print(type(opinion))\n",
    "print(opinion.prettify())"
   ]
  },
  {
   "cell_type": "code",
   "execution_count": null,
   "metadata": {},
   "outputs": [],
   "source": [
    "opinions = page_don.select(\"div.js_product-review:not(.user-post--highlight)\")\n",
    "for opinion in opinions:\n",
    "    opinion_id = opinion[\"data-entry-id\"]\n",
    "author = opinion.select_one(\"span.user-post__author-name\").get_text()\n",
    "try:\n",
    "    recommendation = opinion.select_one(\"span.user-post__author-recommendation > em\").get_text()\n",
    "except AttributeError:\n",
    "    recommendation = None\n",
    "stars = opinion.select_one(\"span.user-post__score-count\").get_text()\n",
    "content = opinion.select_one(\"div.user-post__text\").get_text()\n",
    "try:\n",
    "    pros = [p.get_text() for p in opinion.select_one(\"div.review-feature__item--positive\")]\n",
    "except TypeError: None\n",
    "try:\n",
    "    cons = [c.get_text() for c in opinion.select_one(\"div.review-feature__item--negative\")]\n",
    "except TypeError: None\n",
    "vote_yes = opinion.select_one(\"button.vote-yes\")[\"data-total-vote\"]\n",
    "vote_no = opinion.select_one(\"button.vote-no\")[\"data-total-vote\"]\n",
    "published = opinion.select_one(\"span.user-post__published > time:nth-child(1)\")[\"datetime\"]\n",
    "try:\n",
    "    purchased = opinion.select_one(\"span.user-post__published > time:nth-child(2)\")[\"datetime\"]\n",
    "except TypeError: None\n",
    "print(opinion_id, author,recommendation, stars, content, pros, cons, vote_yes, vote_no, published, purchased, sep='\\n')"
   ]
  },
  {
   "cell_type": "markdown",
   "metadata": {},
   "source": [
    "#### 6. If there are more pages, move to the next page and repeat step 2-5 for it"
   ]
  },
  {
   "cell_type": "code",
   "execution_count": null,
   "metadata": {},
   "outputs": [],
   "source": [
    "try:\n",
    "    next_page ='https://www.ceneo.pl' + page_don.select_one('a.pagination__next')['href']\n",
    "except TypeError:\n",
    "    next_page = None\n"
   ]
  },
  {
   "cell_type": "code",
   "execution_count": null,
   "metadata": {},
   "outputs": [],
   "source": [
    "while next_page:\n",
    "    response = requests.get(next_page)\n",
    "    if response.status_code == 200:\n",
    "        page_don = BeautifulSoup(response.text, 'html.parser')\n",
    "        opinions = page_don.select(\"div.js_product-review:not(.user-post--highlight)\")\n",
    "    for opinion in opinions:\n",
    "        single_opinion = {}\n",
    "        opinion_id = opinion[\"data-entry-id\"]\n",
    "    author = opinion.select_one(\"span.user-post__author-name\").get_text()\n",
    "    try:\n",
    "        recommendation = opinion.select_one(\"span.user-post__author-recommendation > em\").get_text()\n",
    "    except AttributeError:\n",
    "        recommendation = None\n",
    "    stars = opinion.select_one(\"span.user-post__score-count\").get_text()\n",
    "    content = opinion.select_one(\"div.user-post__text\").get_text()\n",
    "    try:\n",
    "        pros = [p.get_text() for p in opinion.select_one(\"div.review-feature__item--positive\")]\n",
    "    except TypeError: None\n",
    "    try:\n",
    "        cons = [c.get_text() for c in opinion.select_one(\"div.review-feature__item--negative\")]\n",
    "    except TypeError: None\n",
    "    vote_yes = opinion.select_one(\"button.vote-yes\")[\"data-total-vote\"]\n",
    "    vote_no = opinion.select_one(\"button.vote-no\")[\"data-total-vote\"]\n",
    "    published = opinion.select_one(\"span.user-post__published > time:nth-child(1)\")[\"datetime\"]\n",
    "    try:\n",
    "        purchased = opinion.select_one(\"span.user-post__published > time:nth-child(2)\")[\"datetime\"]\n",
    "    except TypeError: None\n",
    "    print(opinion_id, author,recommendation, stars, content, pros, cons, vote_yes, vote_no, published, purchased, sep='\\n')\n",
    "    try:\n",
    "        next_page ='https://www.ceneo.pl' + page_don.select_one('a.pagination__next')['href']\n",
    "    except TypeError:\n",
    "        next_page = None\n"
   ]
  },
  {
   "cell_type": "code",
   "execution_count": null,
   "metadata": {},
   "outputs": [],
   "source": [
    "print(response.text)"
   ]
  }
 ],
 "metadata": {
  "kernelspec": {
   "display_name": ".venv",
   "language": "python",
   "name": "python3"
  },
  "language_info": {
   "codemirror_mode": {
    "name": "ipython",
    "version": 3
   },
   "file_extension": ".py",
   "mimetype": "text/x-python",
   "name": "python",
   "nbconvert_exporter": "python",
   "pygments_lexer": "ipython3",
   "version": "3.9.5"
  }
 },
 "nbformat": 4,
 "nbformat_minor": 2
}
